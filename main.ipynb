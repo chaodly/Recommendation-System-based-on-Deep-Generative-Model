{
 "cells": [
  {
   "cell_type": "code",
   "execution_count": 1,
   "metadata": {},
   "outputs": [],
   "source": [
    "import numpy as np\n",
    "import pandas as pd\n",
    "import matplotlib.pyplot as plt\n",
    "\n",
    "import os\n",
    "import sys\n",
    "from scipy import sparse\n",
    "\n",
    "import tensorflow as tf\n",
    "from tensorflow.contrib.layers import apply_regularization, l2_regularizer"
   ]
  },
  {
   "cell_type": "markdown",
   "metadata": {},
   "source": [
    "# Read in Dataset"
   ]
  },
  {
   "cell_type": "code",
   "execution_count": 2,
   "metadata": {},
   "outputs": [],
   "source": [
    "mainPath = 'C:\\\\Users\\\\nizhe\\\\Desktop\\\\python code\\\\ml-20m'"
   ]
  },
  {
   "cell_type": "code",
   "execution_count": 3,
   "metadata": {},
   "outputs": [],
   "source": [
    "raw_data_original = pd.read_csv(os.path.join(mainPath, 'ratings.csv'), header = 0)"
   ]
  },
  {
   "cell_type": "markdown",
   "metadata": {},
   "source": [
    "# Select users and items"
   ]
  },
  {
   "cell_type": "code",
   "execution_count": 4,
   "metadata": {},
   "outputs": [],
   "source": [
    "def preprocessing(raw_data_original):\n",
    "    '''\n",
    "    Drop user count less than 5, and movie count less than 0\n",
    "    '''\n",
    "    raw_data = raw_data_original[raw_data_original['rating'] > 3.5].drop('timestamp', axis = 1)\n",
    "    user_count_df = raw_data.groupby('userId').count().reset_index()[['userId', 'rating']].rename(columns = {'rating' : 'count'})\n",
    "    user_count_df = user_count_df[user_count_df['count'] >= 5]\n",
    "    movie_count_df = raw_data.groupby('movieId').count().reset_index()[['movieId', 'rating']].rename(columns = {'rating' : 'count'})\n",
    "    movie_count_df = movie_count_df[movie_count_df['count'] >= 0]\n",
    "    \n",
    "    result_df = raw_data.merge(user_count_df, on = 'userId').drop('count', axis = 1).merge(movie_count_df, on = 'movieId').drop('count', axis = 1)\n",
    "    \n",
    "    return result_df, user_count_df['count'], movie_count_df['count']"
   ]
  },
  {
   "cell_type": "code",
   "execution_count": 5,
   "metadata": {},
   "outputs": [],
   "source": [
    "raw_data, user_activity, item_popularity = preprocessing(raw_data_original)"
   ]
  },
  {
   "cell_type": "code",
   "execution_count": 6,
   "metadata": {},
   "outputs": [
    {
     "name": "stdout",
     "output_type": "stream",
     "text": [
      "After filtering, there are 9990682 watching events from 136677 users and 20720 movies (sparsity: 0.353%)\n"
     ]
    }
   ],
   "source": [
    "sparsity = 1. * raw_data.shape[0] / (user_activity.shape[0] * item_popularity.shape[0])\n",
    "\n",
    "print(\"After filtering, there are %d watching events from %d users and %d movies (sparsity: %.3f%%)\" % \n",
    "      (raw_data.shape[0], user_activity.shape[0], item_popularity.shape[0], sparsity * 100))"
   ]
  },
  {
   "cell_type": "code",
   "execution_count": 7,
   "metadata": {},
   "outputs": [],
   "source": [
    "n_users = len(user_activity)\n",
    "n_heldout_users = 10000"
   ]
  },
  {
   "cell_type": "code",
   "execution_count": 10,
   "metadata": {},
   "outputs": [],
   "source": [
    "unique_uid = user_activity.index\n",
    "    \n",
    "np.random.seed(98765)\n",
    "unique_uid = unique_uid[np.random.permutation(unique_uid.size)]\n",
    "\n",
    "tr_users = unique_uid[ : (n_users - n_heldout_users * 2)]\n",
    "vd_users = unique_uid[(n_users - n_heldout_users * 2) : (n_users - n_heldout_users)]\n",
    "te_users = unique_uid[(n_users - n_heldout_users) : ]\n",
    "\n",
    "train_df = raw_data.loc[raw_data['userId'].isin(tr_users)].drop_duplicates(subset = {'movieId'})\n",
    "\n",
    "unique_sid = pd.unique(train_df['movieId'])"
   ]
  },
  {
   "cell_type": "code",
   "execution_count": null,
   "metadata": {},
   "outputs": [],
   "source": []
  }
 ],
 "metadata": {
  "kernelspec": {
   "display_name": "Python 3",
   "language": "python",
   "name": "python3"
  },
  "language_info": {
   "codemirror_mode": {
    "name": "ipython",
    "version": 3
   },
   "file_extension": ".py",
   "mimetype": "text/x-python",
   "name": "python",
   "nbconvert_exporter": "python",
   "pygments_lexer": "ipython3",
   "version": "3.6.7"
  }
 },
 "nbformat": 4,
 "nbformat_minor": 2
}
